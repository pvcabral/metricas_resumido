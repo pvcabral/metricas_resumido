{
 "cells": [
  {
   "cell_type": "code",
   "execution_count": 1,
   "metadata": {},
   "outputs": [],
   "source": [
    "import pandas as pd \n",
    "import numpy as np\n",
    "import os \n",
    "import json\n",
    "from model.banco import Banco\n",
    "from sqlalchemy import create_engine\n",
    "from dotenv import load_dotenv"
   ]
  },
  {
   "cell_type": "code",
   "execution_count": 2,
   "metadata": {},
   "outputs": [],
   "source": [
    "with open('listas.json', 'r') as file:\n",
    "    LISTAS = json.load(file)\n",
    "LISTAS_DATA = LISTAS['listas']"
   ]
  },
  {
   "cell_type": "code",
   "execution_count": 3,
   "metadata": {},
   "outputs": [],
   "source": [
    "load_dotenv()\n",
    "DB_URL = os.getenv('DB_URL')"
   ]
  },
  {
   "cell_type": "code",
   "execution_count": 4,
   "metadata": {},
   "outputs": [],
   "source": [
    "QUERY = \"\"\"\n",
    "SELECT\n",
    "\ts.id AS submission_id,\n",
    "\ts.hitPercentage,\n",
    "\ts.char_change_number,\n",
    "\ts.timeConsuming,\n",
    "\ts.createdAt,\n",
    "\tq.id AS question_id,\n",
    "\tq.title AS question_title,\n",
    "\tlq.id AS list_id,\n",
    "\tu.id AS user_id,\n",
    "\tchu.enrollment AS user_enrollment,\n",
    "\tc.id AS class_id,\n",
    "\tc.name AS class_name\n",
    "FROM\n",
    "\tsubmission s \n",
    "JOIN \n",
    "\tquestion q ON s.question_id = q.id\n",
    "JOIN\n",
    "\tuser u ON s.user_id = u.id \n",
    "JOIN\n",
    "\tclass c ON s.class_id = c.id\n",
    "JOIN\n",
    "\tclasshasuser chu ON c.id = chu.class_id AND u.id = chu.user_id\n",
    "JOIN\n",
    "\tlistquestions lq ON lq.id = s.listQuestions_id  \n",
    "WHERE \n",
    "\tc.year > 2021 AND\n",
    "\tlq.id IN (\n",
    "\t\t'4f3452ae-87d4-4a5f-9532-c7634da2cff0',\n",
    "\t\t'70e6c800-7583-485d-ac9f-9c42c48dd785',\n",
    "\t\t'42d5c4ad-7b44-4e4e-b2e5-2997785132c8',\n",
    "\t\t'dbfcc83c-f014-44ae-8260-f06d4e1370ba',\n",
    "\t\t'70d1aa7e-00cb-4428-892f-9ac67cc50449',\n",
    "\t\t'f5b1d992-68de-4854-97d8-c4bd84bd593b',\n",
    "\t\t'dd1cd083-6c00-4605-9ff1-163bd4069363',\n",
    "\t\t'0a2c49a2-482c-40d7-bc44-ee368f089560',\n",
    "\t\t'aca84206-87b2-4478-afa4-6193119cc06a',\n",
    "\t\t'34691c68-f01d-46ad-808d-6bbd44bcd9a2',\n",
    "\t\t'813dedaa-0989-489b-9804-3850ae4b83d1',\n",
    "\t\t'f5bc770d-2ac7-4060-ab1c-e42b5541f7a7',\n",
    "\t\t'93cd33c4-109a-401e-87e9-e26ff5929d37',\n",
    "\t\t'c4d09d1b-73a5-45c6-8a0d-ead669114b65',\n",
    "\t\t'1551e3ed-c875-4bb3-8e4e-58407df40776'\n",
    "\t);\n",
    "\"\"\"\n",
    "consulta = Banco(DB_URL)\n",
    "result = consulta.select(QUERY)\n",
    "del consulta"
   ]
  },
  {
   "cell_type": "code",
   "execution_count": 5,
   "metadata": {},
   "outputs": [],
   "source": [
    "def calculate_metrics_for_list(list_id):\n",
    "    list_data = result[result['list_id'] == list_id]\n",
    "    metrics = list_data.groupby(['user_id', 'class_id']).agg(\n",
    "        submissao=('submission_id', 'count'),\n",
    "        numero_de_questoes=('question_id', 'nunique'),\n",
    "        acertos=('hitPercentage', lambda x: (x == 100).sum()),\n",
    "        media_submissoes=('submission_id', 'count'),\n",
    "        totalmente_erradas=('hitPercentage', lambda x: (x == 0).sum()),\n",
    "        parcialmente_erradas=('hitPercentage', lambda x: ((x > 0) & (x < 100)).sum()),\n",
    "        totalmente_certas=('hitPercentage', lambda x: (x == 100).sum()),\n",
    "        tempo_total_gasto=('timeConsuming', 'sum'),\n",
    "        tempo_medio_gasto=('timeConsuming', 'mean'),\n",
    "        tempo_desvio_padrao=('timeConsuming', 'std'),\n",
    "        percentual_questoes_certas=('hitPercentage', 'mean'),\n",
    "        sum_char_by_list=('char_change_number', 'sum'),\n",
    "        mean_char_by_list=('char_change_number', 'mean'),\n",
    "        std_char_by_list=('char_change_number', 'std'),\n",
    "        submeteu=('submission_id', 'count')\n",
    "    )\n",
    "    metrics['submeteu'] = metrics['submeteu'] > 0\n",
    "    return metrics\n",
    "\n",
    "list_metrics_dfs = []\n",
    "for i, lista in enumerate(LISTAS_DATA, start=1):\n",
    "    for list_name, list_id in lista.items():\n",
    "        metrics_df = calculate_metrics_for_list(list_id)\n",
    "        metrics_df.columns = [f'{col}_list_id{i:02d}' for col in metrics_df.columns]\n",
    "        list_metrics_dfs.append(metrics_df)\n",
    "\n",
    "final_metrics_df = pd.concat(list_metrics_dfs, axis=1)\n",
    "final_metrics_df.to_csv('metrics.csv')"
   ]
  },
  {
   "cell_type": "code",
   "execution_count": 16,
   "metadata": {},
   "outputs": [],
   "source": [
    "QUERY = \"\"\"\n",
    "select \n",
    "    c.id as class_id,\n",
    "    c.year as year,\n",
    "    c.semester as semester,\n",
    "    ch.enrollment as Matrícula,\n",
    "    ch.user_id as user_id\n",
    "from \n",
    "    class c\n",
    "join \n",
    "    classhasuser ch\n",
    "where year >= 2020 and year < 2024\n",
    "\"\"\"\n",
    "consulta = Banco(DB_URL)\n",
    "result = consulta.select(QUERY)\n",
    "del consulta"
   ]
  },
  {
   "cell_type": "code",
   "execution_count": 20,
   "metadata": {},
   "outputs": [],
   "source": [
    "result = result.drop_duplicates(subset=['year', 'semester', 'Matrícula', 'user_id'], keep='first')\n",
    "result.reset_index(drop=True, inplace=True)"
   ]
  },
  {
   "cell_type": "code",
   "execution_count": 21,
   "metadata": {},
   "outputs": [],
   "source": [
    "result.to_csv('alunos_classes.csv',index=False)"
   ]
  }
 ],
 "metadata": {
  "kernelspec": {
   "display_name": "base",
   "language": "python",
   "name": "python3"
  },
  "language_info": {
   "codemirror_mode": {
    "name": "ipython",
    "version": 3
   },
   "file_extension": ".py",
   "mimetype": "text/x-python",
   "name": "python",
   "nbconvert_exporter": "python",
   "pygments_lexer": "ipython3",
   "version": "3.11.7"
  }
 },
 "nbformat": 4,
 "nbformat_minor": 2
}
